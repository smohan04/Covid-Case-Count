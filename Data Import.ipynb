{
 "cells": [
  {
   "cell_type": "code",
   "execution_count": 7,
   "metadata": {},
   "outputs": [],
   "source": [
    "import pandas as pd"
   ]
  },
  {
   "cell_type": "markdown",
   "metadata": {},
   "source": [
    "### Get big query authorization with credentials."
   ]
  },
  {
   "cell_type": "code",
   "execution_count": 8,
   "metadata": {},
   "outputs": [],
   "source": [
    "from google.cloud import bigquery\n",
    "import os\n",
    "os.environ[\"GOOGLE_APPLICATION_CREDENTIALS\"] = r'C:\\Users\\smoha.LAPTOP-D47U0QA5\\Desktop\\Project 5-49d3012cf458.json'\n",
    "client = bigquery.Client()"
   ]
  },
  {
   "cell_type": "markdown",
   "metadata": {},
   "source": [
    "| DATA SET | BIGQUERY | DATES | DESCRIPTION | EXAMPLE COLUMNS |\n",
    "|-|-|-|-|-|\n",
    "| mobility | bigquery-public-data.covid19_google_mobility.mobility_report | 02/15 - 11/03 | Daily Google mobility data indicating percent change from baseline organized by county |  retail_and_recreation_percent_change_from_baseline   grocery_and_pharmacy_percent_change_from_baseline   parks_percent_change_from_baseline transit_stations_percent_change_from_baseline   workplaces_percent_change_from_baseline   residential_percent_change_from_baseline |\n",
    "| policy | bigquery-public-data.covid19_govt_response.oxford_policy_tracker | 01/01 - 11/07 | Policy changes and description of policy changes for state of New York | school_closing  school_closing_notes  workplace_closing_notes \t cancel_public_events \t restrictions_on_gatherings_flag \t close_public_transit_notes \t stay_at_home_requirements \t restrictions_on_internal_movement_flag \t international_travel_controls \t income_support \t income_support_flag  debt_contract_relief \t debt_contract_relief_notes \t fiscal_measures \t public_information_campaigns_flag \t testing_policy \t testing_policy_notes \t contact_tracing \t emergency_healthcare_investment \t vaccine_investment  etc...\t                 |\n",
    "| mask | bigquery-public-data.covid19_nyt.mask_use_by_county bigquery-public-data.covid19_nyt.us_counties | 03/04 - 11/06 | Categorical mask use percentages for the county  | never \t rarely \t sometimes \t frequently \t always  |\n",
    "| case_death | bigquery-public-data.covid19_nyt.us_states | 03/01 - 11/07 | Count of confirmed cases and deaths by date organized by county | date  confirmed_cases  deaths |\n",
    "| open_data | bigquery-public-data.covid19_open_data.covid19_open_data | 01/01 - 11/08 | Contains a lot of different data by state/county | cumulative_intensive_care_patients \t cumulative_ventilator_patients \t current_hospitalized_patients \t current_intensive_care_patients \t current_ventilator_patients \t mobility_transit_stations \t mobility_retail_and_recreation \t mobility_grocery_and_pharmacy \t mobility_parks  mobility_residential  etc...        |\n",
    "| symptoms | bigquery-public-data.covid19_symptom_search.states_daily_2020 | 01/01 - 11/02 | Contains symptom values organized by county  | symptom_Abdominal_obesity \t symptom_Abdominal_pain \t symptom_Acne \t symptom_Actinic_keratosis \t symptom_Acute_bronchitis \t symptom_Adrenal_crisis \t symptom_Ageusia \t symptom_Alcoholism  symptom_Allergic_conjunctivitis  etc...       |"
   ]
  },
  {
   "cell_type": "markdown",
   "metadata": {},
   "source": [
    "### Mobility Dataset"
   ]
  },
  {
   "cell_type": "code",
   "execution_count": 3,
   "metadata": {},
   "outputs": [
    {
     "name": "stderr",
     "output_type": "stream",
     "text": [
      "C:\\Users\\smoha.LAPTOP-D47U0QA5\\anaconda3\\lib\\site-packages\\google\\cloud\\bigquery\\client.py:440: UserWarning: Cannot create BigQuery Storage client, the dependency google-cloud-bigquery-storage is not installed.\n",
      "  warnings.warn(\n"
     ]
    }
   ],
   "source": [
    "sql = \"\"\"\n",
    "    SELECT * \n",
    "    FROM `bigquery-public-data.covid19_google_mobility.mobility_report` \n",
    "    WHERE country_region_code='US'\n",
    "    AND sub_region_1='New York'\n",
    "\"\"\"\n",
    "\n",
    "mobility = client.query(sql).to_dataframe()\n",
    "mobility.to_csv('mobility.csv')"
   ]
  },
  {
   "cell_type": "markdown",
   "metadata": {},
   "source": [
    "### Policy Dataset"
   ]
  },
  {
   "cell_type": "code",
   "execution_count": 5,
   "metadata": {},
   "outputs": [],
   "source": [
    "sql = \"\"\"\n",
    "    SELECT *\n",
    "    FROM `bigquery-public-data.covid19_govt_response.oxford_policy_tracker` \n",
    "    WHERE country_name='United States'\n",
    "    AND region_name='New York'\n",
    "\"\"\"\n",
    "\n",
    "policy = client.query(sql).to_dataframe()\n",
    "policy.to_csv('policy.csv')"
   ]
  },
  {
   "cell_type": "markdown",
   "metadata": {},
   "source": [
    "### Mask Usage by County Dataset"
   ]
  },
  {
   "cell_type": "code",
   "execution_count": 7,
   "metadata": {},
   "outputs": [
    {
     "name": "stderr",
     "output_type": "stream",
     "text": [
      "C:\\Users\\smoha.LAPTOP-D47U0QA5\\anaconda3\\lib\\site-packages\\google\\cloud\\bigquery\\client.py:440: UserWarning: Cannot create BigQuery Storage client, the dependency google-cloud-bigquery-storage is not installed.\n",
      "  warnings.warn(\n"
     ]
    }
   ],
   "source": [
    "sql = \"\"\"\n",
    "    SELECT *\n",
    "    FROM `bigquery-public-data.covid19_nyt.mask_use_by_county` AS m;\n",
    "\"\"\"\n",
    "#    INNER JOIN `bigquery-public-data.covid19_nyt.us_counties` as c\n",
    "#    ON c.county_fips_code=m.county_fips_code\n",
    "mask_use_by_county = client.query(sql).to_dataframe()\n",
    "mask_use_by_county.to_csv('mask_use_by_county.csv')"
   ]
  },
  {
   "cell_type": "markdown",
   "metadata": {},
   "source": [
    "### Covid Case/Death Count Dataset"
   ]
  },
  {
   "cell_type": "code",
   "execution_count": 6,
   "metadata": {},
   "outputs": [],
   "source": [
    "sql = \"\"\"\n",
    "    SELECT *\n",
    "    FROM `bigquery-public-data.covid19_nyt.us_counties` \n",
    "    WHERE state_name='New York'\n",
    "\"\"\"\n",
    "\n",
    "case_death = client.query(sql).to_dataframe()\n",
    "case_death.to_csv('case_death.csv')"
   ]
  },
  {
   "cell_type": "code",
   "execution_count": 11,
   "metadata": {},
   "outputs": [],
   "source": [
    "sql = \"\"\"\n",
    "SELECT * \n",
    "FROM `bigquery-public-data.covid19_nyt.us_states` \n",
    "\"\"\"\n",
    "\n",
    "case_death_state = client.query(sql).to_dataframe()\n",
    "case_death_state.to_csv('case_death_state.csv')"
   ]
  },
  {
   "cell_type": "markdown",
   "metadata": {},
   "source": [
    "### Covid Open Dataset"
   ]
  },
  {
   "cell_type": "code",
   "execution_count": 8,
   "metadata": {},
   "outputs": [],
   "source": [
    "sql = \"\"\"\n",
    "    SELECT *\n",
    "    FROM `bigquery-public-data.covid19_open_data.covid19_open_data` \n",
    "    WHERE country_code='US'\n",
    "    AND subregion1_name='New York';\n",
    "\"\"\"\n",
    "\n",
    "open_data = client.query(sql).to_dataframe()\n",
    "open_data.to_csv('open_data.csv')"
   ]
  },
  {
   "cell_type": "code",
   "execution_count": 10,
   "metadata": {},
   "outputs": [],
   "source": [
    "sql = \"\"\"\n",
    "    SELECT *\n",
    "    FROM `bigquery-public-data.covid19_open_data.covid19_open_data` \n",
    "    WHERE country_code='US' and subregion2_code IS NULL and subregion1_code IS NOT NULL;\n",
    "\"\"\"\n",
    "\n",
    "open_data_us = client.query(sql).to_dataframe()\n",
    "open_data_us.to_csv('open_data_us.csv')\n"
   ]
  },
  {
   "cell_type": "markdown",
   "metadata": {},
   "source": [
    "### Covid Symptoms Dataset"
   ]
  },
  {
   "cell_type": "code",
   "execution_count": 7,
   "metadata": {},
   "outputs": [],
   "source": [
    "sql = \"\"\"\n",
    "    SELECT *\n",
    "    FROM `bigquery-public-data.covid19_symptom_search.counties_daily_2020`\n",
    "    WHERE sub_region_1='New York'\n",
    "\"\"\"\n",
    "\n",
    "symptoms = client.query(sql).to_dataframe()\n",
    "symptoms.to_csv('symptoms.csv')\n",
    "#can also import based on year 2017-2020, weekly/daily and counties/state"
   ]
  },
  {
   "cell_type": "code",
   "execution_count": null,
   "metadata": {},
   "outputs": [],
   "source": []
  }
 ],
 "metadata": {
  "kernelspec": {
   "display_name": "Python 3",
   "language": "python",
   "name": "python3"
  },
  "language_info": {
   "codemirror_mode": {
    "name": "ipython",
    "version": 3
   },
   "file_extension": ".py",
   "mimetype": "text/x-python",
   "name": "python",
   "nbconvert_exporter": "python",
   "pygments_lexer": "ipython3",
   "version": "3.8.3"
  }
 },
 "nbformat": 4,
 "nbformat_minor": 4
}
