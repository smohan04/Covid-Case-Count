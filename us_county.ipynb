{
 "cells": [
  {
   "cell_type": "code",
   "execution_count": 1,
   "metadata": {},
   "outputs": [],
   "source": [
    "import numpy as np\n",
    "import pandas as pd\n",
    "import matplotlib.pyplot as plt\n",
    "import seaborn as sns\n",
    "sns.set()"
   ]
  },
  {
   "cell_type": "code",
   "execution_count": 2,
   "metadata": {
    "scrolled": true
   },
   "outputs": [
    {
     "data": {
      "text/html": [
       "<div>\n",
       "<style scoped>\n",
       "    .dataframe tbody tr th:only-of-type {\n",
       "        vertical-align: middle;\n",
       "    }\n",
       "\n",
       "    .dataframe tbody tr th {\n",
       "        vertical-align: top;\n",
       "    }\n",
       "\n",
       "    .dataframe thead th {\n",
       "        text-align: right;\n",
       "    }\n",
       "</style>\n",
       "<table border=\"1\" class=\"dataframe\">\n",
       "  <thead>\n",
       "    <tr style=\"text-align: right;\">\n",
       "      <th></th>\n",
       "      <th>county_name</th>\n",
       "      <th>total_pop</th>\n",
       "      <th>confirmed_cases</th>\n",
       "      <th>deaths</th>\n",
       "      <th>never</th>\n",
       "      <th>rarely</th>\n",
       "      <th>sometimes</th>\n",
       "      <th>frequently</th>\n",
       "      <th>always</th>\n",
       "    </tr>\n",
       "  </thead>\n",
       "  <tbody>\n",
       "    <tr>\n",
       "      <th>0</th>\n",
       "      <td>Baldwin County</td>\n",
       "      <td>218022.0</td>\n",
       "      <td>7348</td>\n",
       "      <td>84</td>\n",
       "      <td>0.083</td>\n",
       "      <td>0.059</td>\n",
       "      <td>0.098</td>\n",
       "      <td>0.323</td>\n",
       "      <td>0.436</td>\n",
       "    </tr>\n",
       "    <tr>\n",
       "      <th>1</th>\n",
       "      <td>Calhoun County</td>\n",
       "      <td>114277.0</td>\n",
       "      <td>5254</td>\n",
       "      <td>68</td>\n",
       "      <td>0.152</td>\n",
       "      <td>0.108</td>\n",
       "      <td>0.130</td>\n",
       "      <td>0.167</td>\n",
       "      <td>0.442</td>\n",
       "    </tr>\n",
       "    <tr>\n",
       "      <th>2</th>\n",
       "      <td>Cullman County</td>\n",
       "      <td>83442.0</td>\n",
       "      <td>3328</td>\n",
       "      <td>29</td>\n",
       "      <td>0.130</td>\n",
       "      <td>0.024</td>\n",
       "      <td>0.249</td>\n",
       "      <td>0.217</td>\n",
       "      <td>0.379</td>\n",
       "    </tr>\n",
       "    <tr>\n",
       "      <th>3</th>\n",
       "      <td>DeKalb County</td>\n",
       "      <td>71385.0</td>\n",
       "      <td>3942</td>\n",
       "      <td>34</td>\n",
       "      <td>0.084</td>\n",
       "      <td>0.051</td>\n",
       "      <td>0.106</td>\n",
       "      <td>0.179</td>\n",
       "      <td>0.580</td>\n",
       "    </tr>\n",
       "    <tr>\n",
       "      <th>4</th>\n",
       "      <td>Elmore County</td>\n",
       "      <td>81887.0</td>\n",
       "      <td>3495</td>\n",
       "      <td>60</td>\n",
       "      <td>0.042</td>\n",
       "      <td>0.095</td>\n",
       "      <td>0.127</td>\n",
       "      <td>0.252</td>\n",
       "      <td>0.485</td>\n",
       "    </tr>\n",
       "    <tr>\n",
       "      <th>...</th>\n",
       "      <td>...</td>\n",
       "      <td>...</td>\n",
       "      <td>...</td>\n",
       "      <td>...</td>\n",
       "      <td>...</td>\n",
       "      <td>...</td>\n",
       "      <td>...</td>\n",
       "      <td>...</td>\n",
       "      <td>...</td>\n",
       "    </tr>\n",
       "    <tr>\n",
       "      <th>817</th>\n",
       "      <td>Waukesha County</td>\n",
       "      <td>403072.0</td>\n",
       "      <td>17722</td>\n",
       "      <td>151</td>\n",
       "      <td>0.071</td>\n",
       "      <td>0.165</td>\n",
       "      <td>0.145</td>\n",
       "      <td>0.258</td>\n",
       "      <td>0.361</td>\n",
       "    </tr>\n",
       "    <tr>\n",
       "      <th>818</th>\n",
       "      <td>Winnebago County</td>\n",
       "      <td>171020.0</td>\n",
       "      <td>11331</td>\n",
       "      <td>85</td>\n",
       "      <td>0.074</td>\n",
       "      <td>0.194</td>\n",
       "      <td>0.126</td>\n",
       "      <td>0.156</td>\n",
       "      <td>0.450</td>\n",
       "    </tr>\n",
       "    <tr>\n",
       "      <th>819</th>\n",
       "      <td>Wood County</td>\n",
       "      <td>73055.0</td>\n",
       "      <td>2812</td>\n",
       "      <td>18</td>\n",
       "      <td>0.131</td>\n",
       "      <td>0.177</td>\n",
       "      <td>0.215</td>\n",
       "      <td>0.181</td>\n",
       "      <td>0.296</td>\n",
       "    </tr>\n",
       "    <tr>\n",
       "      <th>820</th>\n",
       "      <td>Laramie County</td>\n",
       "      <td>98976.0</td>\n",
       "      <td>2744</td>\n",
       "      <td>14</td>\n",
       "      <td>0.143</td>\n",
       "      <td>0.127</td>\n",
       "      <td>0.100</td>\n",
       "      <td>0.221</td>\n",
       "      <td>0.409</td>\n",
       "    </tr>\n",
       "    <tr>\n",
       "      <th>821</th>\n",
       "      <td>Natrona County</td>\n",
       "      <td>79115.0</td>\n",
       "      <td>2653</td>\n",
       "      <td>16</td>\n",
       "      <td>0.100</td>\n",
       "      <td>0.084</td>\n",
       "      <td>0.094</td>\n",
       "      <td>0.325</td>\n",
       "      <td>0.398</td>\n",
       "    </tr>\n",
       "  </tbody>\n",
       "</table>\n",
       "<p>822 rows × 9 columns</p>\n",
       "</div>"
      ],
      "text/plain": [
       "          county_name  total_pop  confirmed_cases  deaths  never  rarely  \\\n",
       "0      Baldwin County   218022.0             7348      84  0.083   0.059   \n",
       "1      Calhoun County   114277.0             5254      68  0.152   0.108   \n",
       "2      Cullman County    83442.0             3328      29  0.130   0.024   \n",
       "3       DeKalb County    71385.0             3942      34  0.084   0.051   \n",
       "4       Elmore County    81887.0             3495      60  0.042   0.095   \n",
       "..                ...        ...              ...     ...    ...     ...   \n",
       "817   Waukesha County   403072.0            17722     151  0.071   0.165   \n",
       "818  Winnebago County   171020.0            11331      85  0.074   0.194   \n",
       "819       Wood County    73055.0             2812      18  0.131   0.177   \n",
       "820    Laramie County    98976.0             2744      14  0.143   0.127   \n",
       "821    Natrona County    79115.0             2653      16  0.100   0.084   \n",
       "\n",
       "     sometimes  frequently  always  \n",
       "0        0.098       0.323   0.436  \n",
       "1        0.130       0.167   0.442  \n",
       "2        0.249       0.217   0.379  \n",
       "3        0.106       0.179   0.580  \n",
       "4        0.127       0.252   0.485  \n",
       "..         ...         ...     ...  \n",
       "817      0.145       0.258   0.361  \n",
       "818      0.126       0.156   0.450  \n",
       "819      0.215       0.181   0.296  \n",
       "820      0.100       0.221   0.409  \n",
       "821      0.094       0.325   0.398  \n",
       "\n",
       "[822 rows x 9 columns]"
      ]
     },
     "execution_count": 2,
     "metadata": {},
     "output_type": "execute_result"
    }
   ],
   "source": [
    "df = pd.read_csv('mask_county.csv', index_col=0)\n",
    "df"
   ]
  },
  {
   "cell_type": "code",
   "execution_count": 3,
   "metadata": {},
   "outputs": [],
   "source": [
    "# df['log_never'] = round(np.log(df['never']),2)\n",
    "# df['log_rarely'] = round(np.log(df['rarely']),2)\n",
    "# df['log_sometimes'] = round(np.log(df['sometimes']),2)\n",
    "# df['log_frequently'] = round(np.log(df['frequently']),2)\n",
    "# df['log_always'] =round (np.log(df['always']),2)\n",
    "# df['log_confirmed_cases'] = round(np.log(df['confirmed_cases']),2)"
   ]
  },
  {
   "cell_type": "code",
   "execution_count": 4,
   "metadata": {
    "scrolled": true
   },
   "outputs": [
    {
     "data": {
      "image/png": "[encoded data removed]",
      "text/plain": [
       "<Figure size 432x720 with 2 Axes>"
      ]
     },
     "metadata": {},
     "output_type": "display_data"
    }
   ],
   "source": [
    "plt.figure(figsize=(6, 10))\n",
    "sns.heatmap(df.corr()[['confirmed_cases']].sort_values(by='confirmed_cases', ascending=False), annot=True, vmin=-1, vmax=1);"
   ]
  },
  {
   "cell_type": "code",
   "execution_count": 5,
   "metadata": {},
   "outputs": [],
   "source": [
    "from sklearn.model_selection import train_test_split, GridSearchCV\n",
    "from sklearn.preprocessing import StandardScaler\n",
    "from sklearn.linear_model import LinearRegression, RidgeCV, Ridge\n",
    "from sklearn.ensemble import RandomForestRegressor"
   ]
  },
  {
   "cell_type": "code",
   "execution_count": 6,
   "metadata": {},
   "outputs": [],
   "source": [
    "df = pd.get_dummies(df, columns=['county_name'], drop_first=True)"
   ]
  },
  {
   "cell_type": "code",
   "execution_count": 7,
   "metadata": {},
   "outputs": [],
   "source": [
    "X = df.drop(columns=['deaths', 'confirmed_cases'],axis=1).copy()\n",
    "y = df['confirmed_cases']\n",
    "\n",
    "X_train, X_test, y_train, y_test = train_test_split(X, y, random_state=42)"
   ]
  },
  {
   "cell_type": "markdown",
   "metadata": {},
   "source": [
    "## Linear Regression"
   ]
  },
  {
   "cell_type": "code",
   "execution_count": 8,
   "metadata": {},
   "outputs": [],
   "source": [
    "sc = StandardScaler()\n",
    "\n",
    "X_train_sc = sc.fit_transform(X_train)\n",
    "X_test_sc = sc.transform(X_test)"
   ]
  },
  {
   "cell_type": "code",
   "execution_count": 9,
   "metadata": {},
   "outputs": [
    {
     "data": {
      "text/plain": [
       "LinearRegression()"
      ]
     },
     "execution_count": 9,
     "metadata": {},
     "output_type": "execute_result"
    }
   ],
   "source": [
    "lr = LinearRegression()\n",
    "lr.fit(X_train_sc, y_train)"
   ]
  },
  {
   "cell_type": "code",
   "execution_count": 10,
   "metadata": {},
   "outputs": [
    {
     "name": "stdout",
     "output_type": "stream",
     "text": [
      "Linear Rgression training score: 0.9792315070324861\n",
      "Linear Rgression testing score: -2.580539193290569e+24\n"
     ]
    }
   ],
   "source": [
    "print('Linear Rgression training score:', lr.score(X_train_sc, y_train))\n",
    "print('Linear Rgression testing score:', lr.score(X_test_sc, y_test))"
   ]
  },
  {
   "cell_type": "markdown",
   "metadata": {},
   "source": [
    "## Random Forest"
   ]
  },
  {
   "cell_type": "code",
   "execution_count": 13,
   "metadata": {},
   "outputs": [
    {
     "data": {
      "text/plain": [
       "GridSearchCV(estimator=RandomForestRegressor(random_state=42),\n",
       "             param_grid={'max_depth': [None, 1, 2, 3],\n",
       "                         'max_features': ['auto', None],\n",
       "                         'n_estimators': [1, 10, 50, 100]})"
      ]
     },
     "execution_count": 13,
     "metadata": {},
     "output_type": "execute_result"
    }
   ],
   "source": [
    "from sklearn.ensemble import RandomForestClassifier, RandomForestRegressor\n",
    "\n",
    "rf = RandomForestRegressor(random_state=42)\n",
    "rf.fit(X_train_sc, y_train)\n",
    "params = {'n_estimators': [1, 10, 50, 100], \n",
    "         'max_depth': [None,1, 2, 3],\n",
    "         'max_features':['auto', None]}\n",
    "gs = GridSearchCV(rf, param_grid=params)\n",
    "gs.fit(X_train_sc, y_train)"
   ]
  },
  {
   "cell_type": "code",
   "execution_count": 12,
   "metadata": {},
   "outputs": [
    {
     "name": "stdout",
     "output_type": "stream",
     "text": [
      "Random Forest training score: 0.9693104572027043\n",
      "Random Forest testing score: 0.660596872411837\n"
     ]
    }
   ],
   "source": [
    "print('Random Forest training score:', gs.score(X_train_sc, y_train))\n",
    "print('Random Forest testing score:', gs.score(X_test_sc, y_test))"
   ]
  },
  {
   "cell_type": "code",
   "execution_count": null,
   "metadata": {},
   "outputs": [],
   "source": []
  }
 ],
 "metadata": {
  "kernelspec": {
   "display_name": "Python 3",
   "language": "python",
   "name": "python3"
  },
  "language_info": {
   "codemirror_mode": {
    "name": "ipython",
    "version": 3
   },
   "file_extension": ".py",
   "mimetype": "text/x-python",
   "name": "python",
   "nbconvert_exporter": "python",
   "pygments_lexer": "ipython3",
   "version": "3.8.3"
  }
 },
 "nbformat": 4,
 "nbformat_minor": 4
}
